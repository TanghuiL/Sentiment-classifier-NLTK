{
 "cells": [
  {
   "cell_type": "markdown",
   "metadata": {},
   "source": [
    "# Sentiment analysis using NLTK"
   ]
  },
  {
   "cell_type": "code",
   "execution_count": 50,
   "metadata": {
    "collapsed": true
   },
   "outputs": [],
   "source": [
    " from nltk.classify import NaiveBayesClassifier "
   ]
  },
  {
   "cell_type": "markdown",
   "metadata": {},
   "source": [
    "# Data preparation"
   ]
  },
  {
   "cell_type": "code",
   "execution_count": 51,
   "metadata": {},
   "outputs": [
    {
     "name": "stdout",
     "output_type": "stream",
     "text": [
      "{'The': True, 'cate': True, 'is': True, 'very': True, 'cute': True}\n"
     ]
    }
   ],
   "source": [
    "def format_sentence(sent):\n",
    "    return({word: True for word in nltk.word_tokenize(sent)})\n",
    "print(format_sentence('The cate is very cute'))"
   ]
  },
  {
   "cell_type": "code",
   "execution_count": 52,
   "metadata": {},
   "outputs": [],
   "source": [
    "#Load data\n",
    "pos_tweets = []\n",
    "with open(\"./pos_tweets.txt\") as f:\n",
    "    for i in f: \n",
    "        pos_tweets.append([format_sentence(i), 'pos'])\n",
    "\n",
    "neg_tweets = []\n",
    "with open(\"./neg_tweets.txt\") as f:\n",
    "    for i in f: \n",
    "        neg_tweets.append([format_sentence(i), 'neg'])"
   ]
  },
  {
   "cell_type": "code",
   "execution_count": 54,
   "metadata": {},
   "outputs": [],
   "source": [
    "#Split labeled data into the training and test data\n",
    "train = pos_tweets[:int((.8)*len(pos_tweets))] + neg_tweets[:int((.8)*len(neg_tweets))]\n",
    "test= pos_tweets[int((.8)*len(pos_tweets)):] + neg_tweets[int((.8)*len(neg_tweets)):]"
   ]
  },
  {
   "cell_type": "markdown",
   "metadata": {},
   "source": [
    "# Building the classifier"
   ]
  },
  {
   "cell_type": "markdown",
   "metadata": {},
   "source": [
    "All nltk classifiers work with feature structures, which can be simple dictionaries mapping a feature name to a feature value. In this example,  the Naive Bayes Classifier was used. It makes predictions based on the word frequencies associated with each label of positive or negative."
   ]
  },
  {
   "cell_type": "code",
   "execution_count": 55,
   "metadata": {},
   "outputs": [
    {
     "name": "stdout",
     "output_type": "stream",
     "text": [
      "Most Informative Features\n",
      "                      no = True              neg : pos    =     19.4 : 1.0\n",
      "                    love = True              pos : neg    =     19.0 : 1.0\n",
      "                 awesome = True              pos : neg    =     17.2 : 1.0\n",
      "                headache = True              neg : pos    =     16.2 : 1.0\n",
      "                      Hi = True              pos : neg    =     12.7 : 1.0\n",
      "                     fan = True              pos : neg    =      9.7 : 1.0\n",
      "               beautiful = True              pos : neg    =      9.7 : 1.0\n",
      "                     New = True              pos : neg    =      9.7 : 1.0\n",
      "                   Thank = True              pos : neg    =      9.7 : 1.0\n",
      "                    haha = True              pos : neg    =      9.3 : 1.0\n"
     ]
    }
   ],
   "source": [
    "#Building a classifier Python\n",
    "classifier = NaiveBayesClassifier.train(train)\n",
    "\n",
    "#See which words are the highest indicators of a positive or negative label \n",
    "classifier.show_most_informative_features()"
   ]
  },
  {
   "cell_type": "code",
   "execution_count": 56,
   "metadata": {},
   "outputs": [
    {
     "name": "stdout",
     "output_type": "stream",
     "text": [
      "neg\n"
     ]
    }
   ],
   "source": [
    "#Check out if the classifier works\n",
    "tweet = 'She is pissed'\n",
    "print(classifier.classify(format_sentence(tweet)))"
   ]
  },
  {
   "cell_type": "code",
   "execution_count": 57,
   "metadata": {},
   "outputs": [
    {
     "name": "stdout",
     "output_type": "stream",
     "text": [
      "0.8308457711442786\n"
     ]
    }
   ],
   "source": [
    "#Check out the accuracy\n",
    "from nltk.classify.util import accuracy\n",
    "print(accuracy(classifier, test))"
   ]
  }
 ],
 "metadata": {
  "kernelspec": {
   "display_name": "Python 3",
   "language": "python",
   "name": "python3"
  },
  "language_info": {
   "codemirror_mode": {
    "name": "ipython",
    "version": 3
   },
   "file_extension": ".py",
   "mimetype": "text/x-python",
   "name": "python",
   "nbconvert_exporter": "python",
   "pygments_lexer": "ipython3",
   "version": "3.6.3"
  }
 },
 "nbformat": 4,
 "nbformat_minor": 2
}
